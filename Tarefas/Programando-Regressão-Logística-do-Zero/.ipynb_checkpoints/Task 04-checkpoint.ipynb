{
 "cells": [
  {
   "cell_type": "markdown",
   "metadata": {},
   "source": [
    "# Regressão Logística\n",
    "\n",
    "#### Imports:"
   ]
  },
  {
   "cell_type": "code",
   "execution_count": null,
   "metadata": {
    "collapsed": true
   },
   "outputs": [],
   "source": [
    "%matplotlib inline\n",
    "from sklearn.linear_model import LinearRegression\n",
    "import matplotlib.pyplot as plt\n",
    "\n",
    "import numpy as np\n",
    "from numpy import *\n",
    "import sys"
   ]
  },
  {
   "cell_type": "markdown",
   "metadata": {},
   "source": [
    "#### Compute norma:\n",
    "\n",
    "I implement Logistic Regression based on Multiple Linear Regression implementation."
   ]
  },
  {
   "cell_type": "code",
   "execution_count": null,
   "metadata": {
    "collapsed": true
   },
   "outputs": [],
   "source": [
    "def compute_norma(vector):\n",
    "\tnorma = np.sqrt( np.sum( vector ** 2 ) )\n",
    "\treturn norma"
   ]
  },
  {
   "cell_type": "markdown",
   "metadata": {},
   "source": [
    "#### Compute step gradient to train Multiple Linear Regression"
   ]
  },
  {
   "cell_type": "code",
   "execution_count": null,
   "metadata": {
    "collapsed": true
   },
   "outputs": [],
   "source": [
    "def step_gradient(H, w_current, y, learning_rate):\n",
    "\tpartial = np.sum( np.transpose(H) * ( y - np.dot(H, w_current) ), axis = 1 )\n",
    "\t\n",
    "\tnorma = compute_norma(partial)\n",
    "\t\n",
    "\tw = w_current + ( 2 * learning_rate * partial )\n",
    "\t\n",
    "\treturn [w, norma]"
   ]
  },
  {
   "cell_type": "markdown",
   "metadata": {},
   "source": [
    "#### Compute complete gradient descent:"
   ]
  },
  {
   "cell_type": "code",
   "execution_count": null,
   "metadata": {
    "collapsed": true
   },
   "outputs": [],
   "source": [
    "def gradient_descent(H, y, learning_rate, epsilon):\n",
    "\tw = np.zeros((H.shape[1])) #has the same size of output\n",
    "\trss_total = []\n",
    "\trss_by_step = 0\n",
    "\tnorma_total = []\n",
    "\tnorma = epsilon+1\n",
    "\tnum_iterations = 0\n",
    "\t\n",
    "\twhile(norma > epsilon):\n",
    "\t\t[w, norma] = step_gradient(H, w, y, learning_rate)\n",
    "\t\tnum_iterations += 1\n",
    "\t\tif num_iterations % 10 == 0:\n",
    "\t\t\trss_by_step = compute_RSS(H, w, y)\n",
    "\t\t\trss_total.append(rss_by_step)\n",
    "\t\t\tnorma_total.append(norma)\n",
    "\t\n",
    "\treturn [w, num_iterations, rss_total, norma_total]"
   ]
  },
  {
   "cell_type": "markdown",
   "metadata": {},
   "source": [
    "Running the multiple linear regression:"
   ]
  },
  {
   "cell_type": "code",
   "execution_count": null,
   "metadata": {},
   "outputs": [],
   "source": [
    "input_filename = \"iris.data.txt\"\n",
    "learning_rate = 0.00003\n",
    "epsilon = 0.000001\n",
    "\n",
    "att = genfromtxt(input_filename, delimiter=\",\", skip_header=1)\n",
    "H = att[:,0:-1] # Get content to be trained\n",
    "y = att[:,-1] # Get column of predict variable\n",
    "H_with_ones = np.c_[np.ones(len(H)), H]\n",
    "\n",
    "#[w, num_iterations, rss_total, norma_total] = gradient_descent(H_with_ones, y, learning_rate, epsilon)\n",
    "\n",
    "#print(\"\\n\\nNum iterations: {0}\\nRSS: {1}\\nW: {2}\".format(num_iterations, rss_total[-1], w))"
   ]
  },
  {
   "cell_type": "markdown",
   "metadata": {},
   "source": [
    "Computing the same values with Scikit-learn"
   ]
  },
  {
   "cell_type": "code",
   "execution_count": 16,
   "metadata": {},
   "outputs": [
    {
     "name": "stdout",
     "output_type": "stream",
     "text": [
      "\n",
      "Coef with scikit-learn: [ 0.10304143  0.0464367   0.16409834  0.38117843  0.02027816]\n",
      "Intercept with scikit-learn: 1.73771151379\n",
      "\n"
     ]
    }
   ],
   "source": [
    "reg = LinearRegression()\n",
    "reg.fit(H, y)\n",
    "print(\"\\nCoef with scikit-learn: {0}\".format(reg.coef_))\n",
    "print(\"Intercept with scikit-learn: {0}\\n\".format(reg.intercept_))"
   ]
  },
  {
   "cell_type": "markdown",
   "metadata": {},
   "source": [
    "Plot graphics about the traning"
   ]
  },
  {
   "cell_type": "code",
   "execution_count": 23,
   "metadata": {},
   "outputs": [
    {
     "data": {
      "text/plain": [
       "<matplotlib.legend.Legend at 0x7f1f4959df90>"
      ]
     },
     "execution_count": 23,
     "metadata": {},
     "output_type": "execute_result"
    },
    {
     "data": {
      "image/png": "[encoded data removed]",
      "text/plain": [
       "<matplotlib.figure.Figure at 0x7f1f4a98e0d0>"
      ]
     },
     "metadata": {},
     "output_type": "display_data"
    }
   ],
   "source": [
    "plt.plot(rss_total, label = \"RSS\")\n",
    "plt.plot(norma_total, label = \"Norma\")\n",
    "plt.xlabel(\"Iteraction\")\n",
    "plt.ylabel(\"y values\")\n",
    "plt.legend(bbox_to_anchor=(1.05, 1), loc=2, borderaxespad=0.)"
   ]
  }
 ],
 "metadata": {
  "kernelspec": {
   "display_name": "Python 3",
   "language": "python",
   "name": "python3"
  },
  "language_info": {
   "codemirror_mode": {
    "name": "ipython",
    "version": 2
   },
   "file_extension": ".py",
   "mimetype": "text/x-python",
   "name": "python",
   "nbconvert_exporter": "python",
   "pygments_lexer": "ipython2",
   "version": "2.7.13"
  }
 },
 "nbformat": 4,
 "nbformat_minor": 2
}
