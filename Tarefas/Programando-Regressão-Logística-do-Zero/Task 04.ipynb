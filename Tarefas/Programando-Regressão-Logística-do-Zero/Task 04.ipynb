{
 "cells": [
  {
   "cell_type": "markdown",
   "metadata": {},
   "source": [
    "# Regressão Logística\n",
    "\n",
    "#### Imports:"
   ]
  },
  {
   "cell_type": "code",
   "execution_count": 406,
   "metadata": {
    "collapsed": true
   },
   "outputs": [],
   "source": [
    "%matplotlib inline\n",
    "from sklearn.linear_model import LogisticRegression\n",
    "import matplotlib.pyplot as plt\n",
    "\n",
    "import pandas as pd\n",
    "import numpy as np\n",
    "from numpy import *\n",
    "import sys\n",
    "import csv"
   ]
  },
  {
   "cell_type": "markdown",
   "metadata": {},
   "source": [
    "#### Preprocessing data"
   ]
  },
  {
   "cell_type": "code",
   "execution_count": 453,
   "metadata": {},
   "outputs": [],
   "source": [
    "input_filename = \"iris.data.txt\"\n",
    "\n",
    "att = pd.read_csv(input_filename, sep=',', header=None)\n",
    "\n",
    "H = att.iloc[:,0:-1] # Get content to be trained\n",
    "H = np.c_[np.ones(len(H)), H]\n",
    "\n",
    "y = np.where(att.iloc[:,-1]==\"Iris-setosa\", 1.0, 0.0)"
   ]
  },
  {
   "cell_type": "markdown",
   "metadata": {},
   "source": [
    "#### Compute norma:\n",
    "\n",
    "$\\left| \\left| \\nabla l(w^{(t)}) \\right| \\right| = \\sqrt{\\displaystyle \\sum_{i=1}^{m}  \\left( w_{i}^{(t)} \\right)^{2} }$\n",
    "\n",
    "I implement Logistic Regression based on Multiple Linear Regression implementation."
   ]
  },
  {
   "cell_type": "code",
   "execution_count": 439,
   "metadata": {
    "collapsed": true
   },
   "outputs": [],
   "source": [
    "def compute_norma(vector):\n",
    "    norma = np.sqrt( np.sum( vector ** 2 ) )\n",
    "    return norma"
   ]
  },
  {
   "cell_type": "markdown",
   "metadata": {},
   "source": [
    "#### Compute step gradient to train Multiple Linear Regression\n",
    "\n",
    "$\\frac{\\partial l(w)}{\\partial w_{j} } = \\displaystyle \\sum{ \\left( y - \\frac{1}{1+e^{-\\theta^{t}x}} \\right) x }$"
   ]
  },
  {
   "cell_type": "code",
   "execution_count": 456,
   "metadata": {},
   "outputs": [],
   "source": [
    "def step_gradient(H, w_current, y, learning_rate):\n",
    "    diff = y - ( 1 / ( 1 + exp( -np.dot( H, w_current ) ) ) )\n",
    "    \n",
    "    partial = np.sum( ( diff * ( H.transpose() ) ).transpose(), axis = 0 )\n",
    "    \n",
    "    norma = compute_norma(partial)\n",
    "\n",
    "    w = w_current + ( learning_rate * partial )\n",
    "\n",
    "    return [w, norma]"
   ]
  },
  {
   "cell_type": "markdown",
   "metadata": {},
   "source": [
    "#### Compute complete gradient ascending:"
   ]
  },
  {
   "cell_type": "code",
   "execution_count": 457,
   "metadata": {
    "collapsed": true
   },
   "outputs": [],
   "source": [
    "def gradient_ascendent(H, y, learning_rate, epsilon):\n",
    "    w = np.zeros((H.shape[1])) #has the same size of output\n",
    "    num_iterations = 0\n",
    "    gradient = 1\n",
    "    \n",
    "    while(gradient > epsilon):\n",
    "        [w, gradient] = step_gradient(H, w, y, learning_rate)\n",
    "        num_iterations += 1\n",
    "\n",
    "    return [w, num_iterations, gradient]"
   ]
  },
  {
   "cell_type": "markdown",
   "metadata": {},
   "source": [
    "Running the logistic regression:"
   ]
  },
  {
   "cell_type": "code",
   "execution_count": 458,
   "metadata": {},
   "outputs": [
    {
     "name": "stdout",
     "output_type": "stream",
     "text": [
      "Norma: 0.000999996847564\n",
      "w: [ 0.98421228  1.6321127   5.21835306 -8.47674735 -4.2136109 ]\n",
      "num_iterations: 217613\n",
      "\n",
      "\n"
     ]
    }
   ],
   "source": [
    "learning_rate = 0.0053\n",
    "epsilon = 0.001\n",
    "[w, num_iterations, norm_gradient] = gradient_ascendent(H, y, learning_rate, epsilon)\n",
    "print(\"Norma: {0}\\nw: {1}\\nnum_iterations: {2}\\n\\n\".format(norm_gradient, w, num_iterations))"
   ]
  },
  {
   "cell_type": "markdown",
   "metadata": {},
   "source": [
    "Computing the same values with Scikit-learn"
   ]
  },
  {
   "cell_type": "code",
   "execution_count": 435,
   "metadata": {},
   "outputs": [
    {
     "name": "stdout",
     "output_type": "stream",
     "text": [
      "\n",
      "Coef with scikit-learn: [[ 0.41498833  1.46129739 -2.26214118 -1.0290951 ]]\n",
      "\n",
      "Intercept with scikit-learn: [ 0.26560617]\n"
     ]
    }
   ],
   "source": [
    "reg = LogisticRegression(tol=0.00001)\n",
    "reg.fit(H[:,1:], y)\n",
    "print(\"\\nCoef with scikit-learn: {0}\".format(reg.coef_))\n",
    "print(\"\\nIntercept with scikit-learn: {0}\".format(reg.intercept_))"
   ]
  }
 ],
 "metadata": {
  "kernelspec": {
   "display_name": "Python 3",
   "language": "python",
   "name": "python3"
  },
  "language_info": {
   "codemirror_mode": {
    "name": "ipython",
    "version": 2
   },
   "file_extension": ".py",
   "mimetype": "text/x-python",
   "name": "python",
   "nbconvert_exporter": "python",
   "pygments_lexer": "ipython2",
   "version": "2.7.13"
  }
 },
 "nbformat": 4,
 "nbformat_minor": 2
}
