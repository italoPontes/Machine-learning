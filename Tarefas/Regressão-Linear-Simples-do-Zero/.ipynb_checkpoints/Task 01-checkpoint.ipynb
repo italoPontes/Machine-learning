{
 "cells": [
  {
   "cell_type": "markdown",
   "metadata": {},
   "source": [
    "# Atividade de Regressão Linear\n",
    "\n",
    "## Código-fonte disponível em: [link](https://github.com/italoPontes/Machine-learning/tree/master/Tarefas/Regress%C3%A3o-Linear-Simples-do-Zero)\n",
    "\n",
    "\n"
   ]
  },
  {
   "cell_type": "code",
   "execution_count": 30,
   "metadata": {
    "collapsed": true
   },
   "outputs": [],
   "source": [
    "%matplotlib notebook\n",
    "#!/usr/bin/env python\n",
    "# -*- coding: utf-8 -*-\n",
    "#Federal University of Campina Grande (UFCG)\n",
    "#Author: Ítalo de Pontes Oliveira\n",
    "#Adapted from: Siraj Raval\n",
    "#Available at: https://github.com/llSourcell/linear_regression_live\n",
    "\n",
    "#The optimal values of m and b can be actually calculated with way less effort than doing a linear regression. \n",
    "#this is just to demonstrate gradient descent\n",
    "\n",
    "\"\"\"This project will calculate linear regression\n",
    "\"\"\"\n",
    "import matplotlib.pyplot as plt\n",
    "%matplotlib inline\n",
    "\n",
    "import numpy\n",
    "from numpy import *\n",
    "import sys\n",
    "\n",
    "# y = mx + b\n",
    "# m is slope, b is y-intercept\n",
    "## Compute the errors for a given line\n",
    "#  @param b Is the linear coefficient\n",
    "#  @param m Is the angular coefficient\n",
    "#  @param x Domain points\n",
    "#  @param y Domain points\n",
    "def compute_error_for_line_given_points(w0, w1, x, y):\n",
    "\ttotalError = sum((y - (w1 * x + w0)) ** 2)\n",
    "\ttotalError /= float(len(x))\n",
    "\treturn totalError\n",
    "\n",
    "## Calculate a new linear and angular coefficient step by a learning rate. \n",
    "#  @param w0_current Current linear coefficient\n",
    "#  @param w1_current Current linear coefficient\n",
    "#  @param x Domain points\n",
    "#  @param y Image points\n",
    "#  @param learningRate The rate in which the gradient will be changed in one step\n",
    "def step_gradient(w0_current, w1_current, x, y, learningRate):\n",
    "\tw0_gradient = 0\n",
    "\tw1_gradient = 0\n",
    "\tnorma = 0\n",
    "\tN = float(len(x))\n",
    "\t\n",
    "\tw0_gradient = -2 * sum( y - ( w0_current + ( w1_current * x ) ) ) / N\n",
    "\tw1_gradient = -2 * sum( ( y - ( w0_current + ( w1_current * x ) ) ) * x ) / N\n",
    "\n",
    "\tnorma = numpy.linalg.norm(w0_gradient - w1_gradient)\n",
    "\t\n",
    "\tnew_w0 = w0_current - (learningRate * w0_gradient)\n",
    "\tnew_w1 = w1_current - (learningRate * w1_gradient)\n",
    "\t\n",
    "\treturn [new_w0, new_w1, norma]\n",
    "\n",
    "## Run the descending gradient\n",
    "#  @param x Domain points\n",
    "#  @param y Image points\n",
    "#  @param starting_w0 Linear coefficient initial\n",
    "#  @param starting_w1 Angular coefficient initial\n",
    "#  @param learning_rate The rate in which the gradient will be changed in one step\n",
    "#  @param num_iterations Interactions number that the slope line will approximate before a stop.\n",
    "def gradient_descent_runner(x, y, starting_w0, starting_w1, learning_rate, num_iterations):\n",
    "\tw0 = starting_w0\n",
    "\tw1 = starting_w1\n",
    "\trss_by_step = 0\n",
    "\trss_total = []\n",
    "\tnorma = learning_rate\n",
    "\titeration_number = 0\n",
    "\t\n",
    "\tcondiction = True\n",
    "\tif num_iterations < 1:\n",
    "\t\tcondiction = False\n",
    "    \n",
    "\twhile (norma > 0.001 and not condiction) or ( iteration_number < num_iterations and condiction):\n",
    "\t\trss_by_step = compute_error_for_line_given_points(w0, w1, x, y)\n",
    "\t\trss_total.append(rss_by_step)\n",
    "\t\tw0, w1, norma = step_gradient(w0, w1, x, y, learning_rate)\n",
    "\t\titeration_number += 1\n",
    "\t\n",
    "\treturn [w0, w1, iteration_number, rss_total]"
   ]
  },
  {
   "cell_type": "markdown",
   "metadata": {
    "collapsed": true
   },
   "source": [
    "## Questões\n",
    "\n",
    "\n",
    "#### 1. Rode o mesmo programa nos dados contendo anos de escolaridade (primeira coluna) versus salário (segunda coluna). Baixe os dados aqui. Esse exemplo foi trabalhado em sala de aula em várias ocasiões. Os itens a seguir devem ser respondidos usando esses dados.\n",
    "\n",
    "RESOLUÇÃO: Arquivo baixado, encontra-se no diretório atual com o nome \"income.csv\".\n",
    "\n",
    "#### 2. Modifique o código original para imprimir o RSS a cada iteração do gradiente descendente.\n",
    "\n",
    "RESOLUÇÃO: Foi preferível adicionar uma nova funcionalidade ao código. Ao final da execução é salvo um gráfico com o RSS para todas as iterações.\n"
   ]
  },
  {
   "cell_type": "code",
   "execution_count": 28,
   "metadata": {
    "collapsed": true
   },
   "outputs": [],
   "source": [
    "## Show figure \n",
    "#  @param data Data to show in the graphic.\n",
    "#  @param xlabel Text to be shown in abscissa axis.\n",
    "#  @param ylabel Text to be shown in ordinate axis.\n",
    "def show_figure(data, xlabel, ylabel):\n",
    "\tplt.plot(data)\n",
    "\tplt.xlabel(xlabel)\n",
    "\tplt.ylabel(ylabel)"
   ]
  },
  {
   "cell_type": "markdown",
   "metadata": {
    "collapsed": true
   },
   "source": [
    "#### 3. O que acontece com o RSS ao longo das iterações (aumenta ou diminui) se você usar 1000 iterações e um learning_rate (tamanho do passo do gradiente) de 0.001? Por que você acha que isso acontece?\n"
   ]
  },
  {
   "cell_type": "code",
   "execution_count": 48,
   "metadata": {},
   "outputs": [
    {
     "name": "stdout",
     "output_type": "stream",
     "text": [
      "RSS na última iteração: 104.12\n",
      "RSS na última iteração: 117.13\n"
     ]
    },
    {
     "data": {
      "image/png": "[encoded data removed]",
      "text/plain": [
       "<matplotlib.figure.Figure at 0x7f534ebd9490>"
      ]
     },
     "metadata": {},
     "output_type": "display_data"
    }
   ],
   "source": [
    "points = genfromtxt(\"income.csv\", delimiter=\",\")\n",
    "x = points[:,0] \n",
    "y = points[:,1]\n",
    "\n",
    "starting_w0 = 0\n",
    "starting_w1 = 0\n",
    "\n",
    "learning_rate = 0.001\n",
    "iterations_number = 50\n",
    "[w0, w1, iter_number, rss_total] = gradient_descent_runner(x, y, starting_w0, starting_w1, learning_rate, iterations_number)\n",
    "show_figure(rss_total, \"Iteraction\", \"RSS\") \n",
    "print(\"RSS na última iteração: %.2f\" % rss_total[-1])\n",
    "\n",
    "learning_rate = 0.0001\n",
    "[w0, w1, iter_number, rss_total] = gradient_descent_runner(x, y, starting_w0, starting_w1, learning_rate, iterations_number)\n",
    "show_figure(rss_total, \"Iteraction\", \"RSS\") \n",
    "print(\"RSS na última iteração: %.2f\" % rss_total[-1])"
   ]
  },
  {
   "cell_type": "markdown",
   "metadata": {
    "scrolled": true
   },
   "source": [
    "Com esse gráfico é possível observar que:\n",
    "#### Quanto maior o Learning Rate, maior o número de iterações necessárias para se atingir um mesmo erro."
   ]
  },
  {
   "cell_type": "code",
   "execution_count": 51,
   "metadata": {},
   "outputs": [
    {
     "name": "stdout",
     "output_type": "stream",
     "text": [
      "RSS na última iteração: 91.83\n",
      "RSS na última iteração: 41.02\n"
     ]
    }
   ],
   "source": [
    "learning_rate = 0.001\n",
    "iterations_number = 1000\n",
    "[w0, w1, iter_number, rss_total] = gradient_descent_runner(x, y, starting_w0, starting_w1, learning_rate, iterations_number)\n",
    "print(\"RSS na última iteração: %.2f\" % rss_total[-1])\n",
    "\n",
    "iterations_number = 10000\n",
    "[w0, w1, iter_number, rss_total] = gradient_descent_runner(x, y, starting_w0, starting_w1, learning_rate, iterations_number)\n",
    "print(\"RSS na última iteração: %.2f\" % rss_total[-1])"
   ]
  },
  {
   "cell_type": "markdown",
   "metadata": {},
   "source": [
    "Ao observar os valores de RSS calculados quando o número de iterações aumenta, é possível observar que o RSS obtido diminui cada vez mais.\n",
    "\n",
    "#### 4. Teste valores diferentes do número de iterações e learning_rate até que w0 e w1 sejam aproximadamente iguais a -39 e 5 respectivamente. Reporte os valores do número de iterações e learning_rate usados para atingir esses valores.\n",
    "\n",
    "Foram testados diferentes valores para o número de iterações, e diferentes frações do Learning Rate até que com a seguinte configuração, obteve o valor desejado:"
   ]
  },
  {
   "cell_type": "code",
   "execution_count": 57,
   "metadata": {},
   "outputs": [
    {
     "name": "stdout",
     "output_type": "stream",
     "text": [
      "W0: -39.11\n",
      "W1: 5.58\n",
      "RSS na última iteração: 29.83\n"
     ]
    }
   ],
   "source": [
    "learning_rate = 0.0025\n",
    "iterations_number = 20000\n",
    "[w0, w1, iter_number, rss_total] = gradient_descent_runner(x, y, starting_w0, starting_w1, learning_rate, iterations_number)\n",
    "\n",
    "print(\"W0: %.2f\" % w0)\n",
    "print(\"W1: %.2f\" % w1)\n",
    "print(\"RSS na última iteração: %.2f\" % rss_total[-1])"
   ]
  },
  {
   "cell_type": "markdown",
   "metadata": {},
   "source": [
    "#### 5. O algoritmo do vídeo usa o número de iterações como critério de parada. Mude o algoritmo para considerar um critério de tolerância que é comparado ao tamanho do gradiente (como no algoritmo dos slides apresentados em sala). \n",
    "\n",
    "A metodologia aplicada foi a seguinte: quando não se fornece o número de iterações por parâmetro, o algoritmo irá iterar até que a norma do gradiente descendente seja igual a 0,001. Ou:\n",
    "\n",
    "$\\vert\\vert (W_{0}^{grad}, W_{1}^{grad} ) \\vert\\vert < 0,001 $"
   ]
  },
  {
   "cell_type": "code",
   "execution_count": 58,
   "metadata": {},
   "outputs": [
    {
     "name": "stdout",
     "output_type": "stream",
     "text": [
      "W0: -39.44\n",
      "W1: 5.60\n",
      "RSS na última iteração: 29.83\n"
     ]
    }
   ],
   "source": [
    "learning_rate = 0.0025\n",
    "iterations_number = 0\n",
    "[w0, w1, iter_number, rss_total] = gradient_descent_runner(x, y, starting_w0, starting_w1, learning_rate, iterations_number)\n",
    "\n",
    "print(\"W0: %.2f\" % w0)\n",
    "print(\"W1: %.2f\" % w1)\n",
    "print(\"RSS na última iteração: %.2f\" % rss_total[-1])"
   ]
  },
  {
   "cell_type": "markdown",
   "metadata": {},
   "source": [
    "#### 6. Ache um valor de tolerância que se aproxime dos valores dos parâmetros do item 4 acima. Que valor foi esse?\n",
    "\n",
    "O valor utilizado, conforme descrito na questão anterior, foi 0,001. Ou seja, quando o tamanho do gradiente for menor que 0,001, então, o algoritmo entenderá que a aproximação convergiu e terminará o processamento.\n",
    "\n",
    "#### 7. Implemente a forma fechada (equações normais) de calcular os coeficientes de regressão (vide algoritmo nos slides). Compare o tempo de processamento com o gradiente descendente considerando sua solução do item 6.\n",
    "\n",
    "Foi implementada a função considerando a forma fechada. Dessa maneira, foi observado que o tempo de processamento descrito na questão 6 foi, aproximadamente, cinco vezes maior. Mesmo considerando o código implementado já na versão vetorizada.\n"
   ]
  },
  {
   "cell_type": "code",
   "execution_count": 70,
   "metadata": {},
   "outputs": [
    {
     "name": "stdout",
     "output_type": "stream",
     "text": [
      "Tempo para calcular os coeficientes pelo gradiente descendente: 1.90 s.\n",
      "Tempo para calcular os coeficientes de maneira fechada: 0.0002 s.\n",
      "Ou seja, calcular os coeficientes por meio da forma fechada é 8003 vezes mais rápido que via gradiente.\n"
     ]
    }
   ],
   "source": [
    "import time\n",
    "\n",
    "start_time = time.time()\n",
    "[w0, w1, iter_number, rss_total] = gradient_descent_runner(x, y, starting_w0, starting_w1, learning_rate, iterations_number)\n",
    "gradient_time = float(time.time()-start_time)\n",
    "print(\"Tempo para calcular os coeficientes pelo gradiente descendente: %.2f s.\" % gradient_time)\n",
    "\n",
    "start_time = time.time()\n",
    "\n",
    "## Compute the W0 and W1 by derivative\n",
    "#  @param x Domain points\n",
    "#  @param y Image points\n",
    "def compute_normal_equation(x, y):\n",
    "\tx_mean = numpy.mean(x)\n",
    "\ty_mean = numpy.mean(y)\n",
    "\tw1 = sum((x - x_mean)*(y - y_mean))/sum((x - x_mean)**2)\n",
    "\tw0 = y_mean-(w1*x_mean)\n",
    "\treturn [w0, w1]\n",
    "\n",
    "derivative_time = float(time.time()-start_time)\n",
    "print(\"Tempo para calcular os coeficientes de maneira fechada: %.4f s.\" % derivative_time)\n",
    "\n",
    "ratio = float(gradient_time/derivative_time)\n",
    "print(\"Ou seja, calcular os coeficientes por meio da forma fechada é %.0f vezes mais rápido que via gradiente.\" % (ratio))\n"
   ]
  }
 ],
 "metadata": {
  "kernelspec": {
   "display_name": "Python 2",
   "language": "python",
   "name": "python2"
  },
  "language_info": {
   "codemirror_mode": {
    "name": "ipython",
    "version": 2
   },
   "file_extension": ".py",
   "mimetype": "text/x-python",
   "name": "python",
   "nbconvert_exporter": "python",
   "pygments_lexer": "ipython2",
   "version": "2.7.13"
  }
 },
 "nbformat": 4,
 "nbformat_minor": 2
}
