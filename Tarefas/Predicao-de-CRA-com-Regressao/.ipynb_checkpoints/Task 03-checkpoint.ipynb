{
 "cells": [
  {
   "cell_type": "markdown",
   "metadata": {},
   "source": [
    "# CRA prediction with Regression\n",
    "\n",
    "Reference [link](https://www.kaggle.com/apapiu/regularized-linear-models).\n",
    "\n",
    "* Considere o pipeline mostrado nesse blog (Links para um site externo)Links para um site externo (também comentado em sala) para construir seus modelos de regressão. Isso implica, dentre outras coisas:\n",
    "  * Analisar as distribuições das variáveis para ver se estão enviesadas e precisam de correção; tratamento de valores ausentes, variáveis categóricas e normalização, quando for o caso.\n",
    "  * Construir modelos de regressão com (ridge e lasso) e sem regularização.\n",
    "  * Considerar também modelos de regressão não paramétrica como K-NN e Kernel Regression.\n",
    "  * Tunar os hiperâmetros e retornar os rmses de validação cruzada para todos os modelos avaliados\n",
    "  * Plotar os resíduos versus predições e analisar se esses plots representam bons indícios da adequabilidade de modelos lineares a esse problema.\n",
    "* Dois dias antes da entrega final serão liberados os dados de teste para a validação final dos modelos que você construiu.\n",
    "* Para quem quiser ir além, aqui algumas ideias que podem ajudar a melhorar as predições:\n",
    "  * Tente criar novas variáveis a partir das variáveis existentes, por exemplo, média de notas do período, modelos polinomiais e interações entre as variáveis.\n",
    "  * Usando outros métodos de regressão. Por exemplo, SVR (Support Vector Regression), Árvores de Regressão e Florestas Aleatórias.\n",
    "\n",
    "#### Importing packages\n",
    "\n",
    "This packages will be used to analysis data and train the models."
   ]
  },
  {
   "cell_type": "code",
   "execution_count": 1,
   "metadata": {
    "collapsed": true
   },
   "outputs": [],
   "source": [
    "#enconding=utf8\n",
    "import copy \n",
    "import pandas as pd\n",
    "import numpy as np\n",
    "import seaborn as sns\n",
    "import matplotlib\n",
    "\n",
    "import matplotlib.pyplot as plt\n",
    "from scipy import stats\n",
    "from scipy.stats import skew\n",
    "from scipy.stats.stats import pearsonr\n",
    "\n",
    "%config InlineBackend.figure_format = 'retina' #set 'png' here when working on notebook\n",
    "%matplotlib inline"
   ]
  },
  {
   "cell_type": "markdown",
   "metadata": {},
   "source": [
    "#### Reading data"
   ]
  },
  {
   "cell_type": "code",
   "execution_count": 2,
   "metadata": {},
   "outputs": [
    {
     "data": {
      "text/html": [
       "<div>\n",
       "<style>\n",
       "    .dataframe thead tr:only-child th {\n",
       "        text-align: right;\n",
       "    }\n",
       "\n",
       "    .dataframe thead th {\n",
       "        text-align: left;\n",
       "    }\n",
       "\n",
       "    .dataframe tbody tr th {\n",
       "        vertical-align: top;\n",
       "    }\n",
       "</style>\n",
       "<table border=\"1\" class=\"dataframe\">\n",
       "  <thead>\n",
       "    <tr style=\"text-align: right;\">\n",
       "      <th></th>\n",
       "      <th>matricula</th>\n",
       "      <th>vetorial</th>\n",
       "      <th>lpt</th>\n",
       "      <th>p1</th>\n",
       "      <th>ic</th>\n",
       "      <th>lp1</th>\n",
       "      <th>calculo2</th>\n",
       "      <th>discreta</th>\n",
       "      <th>p2</th>\n",
       "      <th>grafos</th>\n",
       "      <th>fis_classica</th>\n",
       "      <th>lp2</th>\n",
       "      <th>cra</th>\n",
       "      <th>calculo1</th>\n",
       "    </tr>\n",
       "  </thead>\n",
       "  <tbody>\n",
       "    <tr>\n",
       "      <th>0</th>\n",
       "      <td>0cc3d63edf0b986cb87e345972857e15</td>\n",
       "      <td>8.6</td>\n",
       "      <td>10.0</td>\n",
       "      <td>9.0</td>\n",
       "      <td>9.1</td>\n",
       "      <td>8.6</td>\n",
       "      <td>8.4</td>\n",
       "      <td>8.3</td>\n",
       "      <td>8.8</td>\n",
       "      <td>8.2</td>\n",
       "      <td>7.9</td>\n",
       "      <td>9.4</td>\n",
       "      <td>8.477647</td>\n",
       "      <td>8.7</td>\n",
       "    </tr>\n",
       "    <tr>\n",
       "      <th>1</th>\n",
       "      <td>0d78246db769dc958ce19fc414050b2a</td>\n",
       "      <td>5.6</td>\n",
       "      <td>7.0</td>\n",
       "      <td>7.7</td>\n",
       "      <td>7.0</td>\n",
       "      <td>8.1</td>\n",
       "      <td>6.2</td>\n",
       "      <td>7.3</td>\n",
       "      <td>8.2</td>\n",
       "      <td>5.4</td>\n",
       "      <td>7.7</td>\n",
       "      <td>8.9</td>\n",
       "      <td>6.851724</td>\n",
       "      <td>7.0</td>\n",
       "    </tr>\n",
       "    <tr>\n",
       "      <th>2</th>\n",
       "      <td>0f5bb983df06b90337dc2c6301fef3f6</td>\n",
       "      <td>10.0</td>\n",
       "      <td>9.8</td>\n",
       "      <td>7.9</td>\n",
       "      <td>9.6</td>\n",
       "      <td>8.3</td>\n",
       "      <td>8.7</td>\n",
       "      <td>8.8</td>\n",
       "      <td>9.5</td>\n",
       "      <td>9.2</td>\n",
       "      <td>8.6</td>\n",
       "      <td>9.7</td>\n",
       "      <td>9.090588</td>\n",
       "      <td>8.6</td>\n",
       "    </tr>\n",
       "    <tr>\n",
       "      <th>3</th>\n",
       "      <td>1307a4421a67a497cea198e8ccfb97ee</td>\n",
       "      <td>6.1</td>\n",
       "      <td>8.3</td>\n",
       "      <td>6.8</td>\n",
       "      <td>8.2</td>\n",
       "      <td>7.1</td>\n",
       "      <td>8.0</td>\n",
       "      <td>6.3</td>\n",
       "      <td>8.9</td>\n",
       "      <td>7.0</td>\n",
       "      <td>8.5</td>\n",
       "      <td>9.0</td>\n",
       "      <td>7.283516</td>\n",
       "      <td>7.8</td>\n",
       "    </tr>\n",
       "    <tr>\n",
       "      <th>4</th>\n",
       "      <td>1432d50cf8519694ab992c414d90a130</td>\n",
       "      <td>8.8</td>\n",
       "      <td>9.3</td>\n",
       "      <td>5.0</td>\n",
       "      <td>8.5</td>\n",
       "      <td>5.1</td>\n",
       "      <td>5.0</td>\n",
       "      <td>5.8</td>\n",
       "      <td>7.1</td>\n",
       "      <td>5.4</td>\n",
       "      <td>8.7</td>\n",
       "      <td>8.2</td>\n",
       "      <td>7.205747</td>\n",
       "      <td>5.2</td>\n",
       "    </tr>\n",
       "  </tbody>\n",
       "</table>\n",
       "</div>"
      ],
      "text/plain": [
       "                          matricula  vetorial   lpt   p1   ic  lp1  calculo2  \\\n",
       "0  0cc3d63edf0b986cb87e345972857e15       8.6  10.0  9.0  9.1  8.6       8.4   \n",
       "1  0d78246db769dc958ce19fc414050b2a       5.6   7.0  7.7  7.0  8.1       6.2   \n",
       "2  0f5bb983df06b90337dc2c6301fef3f6      10.0   9.8  7.9  9.6  8.3       8.7   \n",
       "3  1307a4421a67a497cea198e8ccfb97ee       6.1   8.3  6.8  8.2  7.1       8.0   \n",
       "4  1432d50cf8519694ab992c414d90a130       8.8   9.3  5.0  8.5  5.1       5.0   \n",
       "\n",
       "   discreta   p2  grafos  fis_classica  lp2       cra  calculo1  \n",
       "0       8.3  8.8     8.2           7.9  9.4  8.477647       8.7  \n",
       "1       7.3  8.2     5.4           7.7  8.9  6.851724       7.0  \n",
       "2       8.8  9.5     9.2           8.6  9.7  9.090588       8.6  \n",
       "3       6.3  8.9     7.0           8.5  9.0  7.283516       7.8  \n",
       "4       5.8  7.1     5.4           8.7  8.2  7.205747       5.2  "
      ]
     },
     "execution_count": 2,
     "metadata": {},
     "output_type": "execute_result"
    }
   ],
   "source": [
    "data = pd.read_csv(\"treino.csv\")\n",
    "data.columns = ['matricula', 'vetorial','lpt','p1','ic','lp1','calculo2','discreta','p2','grafos','fis_classica','lp2','cra','calculo1']\n",
    "data.head()"
   ]
  },
  {
   "cell_type": "markdown",
   "metadata": {},
   "source": [
    "### Distribuition analysis\n",
    "\n",
    "#### Plot graphics"
   ]
  },
  {
   "cell_type": "code",
   "execution_count": 3,
   "metadata": {},
   "outputs": [
    {
     "data": {
      "text/plain": [
       "array([[<matplotlib.axes._subplots.AxesSubplot object at 0x7fad71ad3450>]], dtype=object)"
      ]
     },
     "execution_count": 3,
     "metadata": {},
     "output_type": "execute_result"
    },
    {
     "data": {
      "image/png": "[encoded data removed]",
      "text/plain": [
       "<matplotlib.figure.Figure at 0x7fad71ab9bd0>"
      ]
     },
     "metadata": {
      "image/png": {
       "height": 262,
       "width": 367
      }
     },
     "output_type": "display_data"
    }
   ],
   "source": [
    "'''\n",
    "pd.DataFrame(data.vetorial).hist()\n",
    "pd.DataFrame(data.lpt).hist()\n",
    "pd.DataFrame(data.p1).hist()\n",
    "pd.DataFrame(data.ic).hist()\n",
    "pd.DataFrame(data.lp1).hist()\n",
    "pd.DataFrame(data.calculo1).hist()\n",
    "pd.DataFrame(data.calculo2).hist()\n",
    "pd.DataFrame(data.discreta).hist()\n",
    "pd.DataFrame(data.p2).hist()\n",
    "pd.DataFrame(data.grafos).hist()\n",
    "pd.DataFrame(data.fis_classica).hist()\n",
    "pd.DataFrame(data.lp2).hist()\n",
    "'''\n",
    "pd.DataFrame(data.cra).hist()"
   ]
  },
  {
   "cell_type": "markdown",
   "metadata": {},
   "source": [
    "### Check skew in data"
   ]
  },
  {
   "cell_type": "markdown",
   "metadata": {},
   "source": [
    "#### Skewness analysis"
   ]
  },
  {
   "cell_type": "code",
   "execution_count": 4,
   "metadata": {
    "collapsed": true
   },
   "outputs": [],
   "source": [
    "def check_skewness(data, thresh=0.75):\n",
    "    numeric_feats = data.dtypes[data.dtypes != \"object\"].index\n",
    "    skewed_feats = data[numeric_feats].apply(lambda x: skew(x.dropna())) #compute skewness\n",
    "    features_index = skewed_feats[(skewed_feats < -thresh) | (skewed_feats > thresh)]\n",
    "    return features_index"
   ]
  },
  {
   "cell_type": "code",
   "execution_count": 5,
   "metadata": {},
   "outputs": [
    {
     "name": "stdout",
     "output_type": "stream",
     "text": [
      "lp2   -1.905429\n",
      "dtype: float64\n"
     ]
    }
   ],
   "source": [
    "features_index = check_skewness(data)\n",
    "\n",
    "print(features_index)"
   ]
  },
  {
   "cell_type": "markdown",
   "metadata": {},
   "source": [
    "It was observed that LP2 discipline has skew, so to treat this bias, I've used exponent function.\n",
    "\n",
    "#### Treating \"LP2\" skew:"
   ]
  },
  {
   "cell_type": "code",
   "execution_count": 6,
   "metadata": {},
   "outputs": [
    {
     "name": "stdout",
     "output_type": "stream",
     "text": [
      "Series([], dtype: float64)\n"
     ]
    }
   ],
   "source": [
    "#exp transform skewed numeric features:\n",
    "data[features_index.index] = np.exp(data[features_index.index]) # \".index\" get the column name\n",
    "\n",
    "features_index = check_skewness(data)\n",
    "\n",
    "print(features_index)"
   ]
  },
  {
   "cell_type": "markdown",
   "metadata": {},
   "source": [
    "After applying exponential function in this feature, it was removed the skewness of -1.9."
   ]
  },
  {
   "cell_type": "markdown",
   "metadata": {},
   "source": [
    "### Is necessary fill missing values?"
   ]
  },
  {
   "cell_type": "code",
   "execution_count": 7,
   "metadata": {},
   "outputs": [
    {
     "data": {
      "text/html": [
       "<div>\n",
       "<style>\n",
       "    .dataframe thead tr:only-child th {\n",
       "        text-align: right;\n",
       "    }\n",
       "\n",
       "    .dataframe thead th {\n",
       "        text-align: left;\n",
       "    }\n",
       "\n",
       "    .dataframe tbody tr th {\n",
       "        vertical-align: top;\n",
       "    }\n",
       "</style>\n",
       "<table border=\"1\" class=\"dataframe\">\n",
       "  <thead>\n",
       "    <tr style=\"text-align: right;\">\n",
       "      <th></th>\n",
       "      <th>matricula</th>\n",
       "      <th>vetorial</th>\n",
       "      <th>lpt</th>\n",
       "      <th>p1</th>\n",
       "      <th>ic</th>\n",
       "      <th>lp1</th>\n",
       "      <th>calculo2</th>\n",
       "      <th>discreta</th>\n",
       "      <th>p2</th>\n",
       "      <th>grafos</th>\n",
       "      <th>fis_classica</th>\n",
       "      <th>lp2</th>\n",
       "      <th>cra</th>\n",
       "      <th>calculo1</th>\n",
       "    </tr>\n",
       "  </thead>\n",
       "  <tbody>\n",
       "    <tr>\n",
       "      <th>False</th>\n",
       "      <td>88</td>\n",
       "      <td>88</td>\n",
       "      <td>88</td>\n",
       "      <td>88</td>\n",
       "      <td>88</td>\n",
       "      <td>88</td>\n",
       "      <td>88</td>\n",
       "      <td>88</td>\n",
       "      <td>88</td>\n",
       "      <td>88</td>\n",
       "      <td>88</td>\n",
       "      <td>88</td>\n",
       "      <td>88</td>\n",
       "      <td>88</td>\n",
       "    </tr>\n",
       "  </tbody>\n",
       "</table>\n",
       "</div>"
      ],
      "text/plain": [
       "       matricula  vetorial  lpt  p1  ic  lp1  calculo2  discreta  p2  grafos  \\\n",
       "False         88        88   88  88  88   88        88        88  88      88   \n",
       "\n",
       "       fis_classica  lp2  cra  calculo1  \n",
       "False            88   88   88        88  "
      ]
     },
     "execution_count": 7,
     "metadata": {},
     "output_type": "execute_result"
    }
   ],
   "source": [
    "data.isnull().apply(pd.value_counts)"
   ]
  },
  {
   "cell_type": "markdown",
   "metadata": {
    "collapsed": true
   },
   "source": [
    "No. How can be observed, all features have 88 values, or none line is the missing value because all matrix has 88 lines."
   ]
  },
  {
   "cell_type": "markdown",
   "metadata": {},
   "source": [
    "  # Preprocessing data"
   ]
  },
  {
   "cell_type": "code",
   "execution_count": 19,
   "metadata": {
    "collapsed": true
   },
   "outputs": [],
   "source": [
    "H = data.drop(['matricula', 'cra'], 1)\n",
    "y = data['cra']"
   ]
  },
  {
   "cell_type": "markdown",
   "metadata": {},
   "source": [
    "## RIDGE Regression"
   ]
  },
  {
   "cell_type": "code",
   "execution_count": 109,
   "metadata": {
    "collapsed": true
   },
   "outputs": [],
   "source": [
    "from sklearn.linear_model import Ridge, RidgeCV, ElasticNet, LassoCV, LassoLarsCV\n",
    "from sklearn.model_selection import cross_val_score\n",
    "\n",
    "def rmse_cv(model, X_train, y, cv_num):\n",
    "    rmse = np.sqrt(-cross_val_score(model, X_train, y, scoring=\"neg_mean_squared_error\", cv = cv_num))\n",
    "    return(rmse)"
   ]
  },
  {
   "cell_type": "markdown",
   "metadata": {},
   "source": [
    "#### Training Ridge Regression with different values"
   ]
  },
  {
   "cell_type": "code",
   "execution_count": 180,
   "metadata": {
    "scrolled": true
   },
   "outputs": [],
   "source": [
    "alphas = [0.0, 0.1, 0.3, 1, 3, 5, 10, 15, 30, 40, 50, 60, 70, 80]\n",
    "cv_num = 5\n",
    "cv_ridge = [rmse_cv(Ridge(alpha = alpha), H, y, cv_num)\n",
    "            for alpha in alphas]"
   ]
  },
  {
   "cell_type": "markdown",
   "metadata": {},
   "source": [
    "#### Ploting RMSE in Ridge Regression"
   ]
  },
  {
   "cell_type": "markdown",
   "metadata": {},
   "source": [
    "##### Ploting graphic"
   ]
  },
  {
   "cell_type": "code",
   "execution_count": 181,
   "metadata": {
    "collapsed": true
   },
   "outputs": [],
   "source": [
    "def plot_graphic(X, index, title, xlabel, ylabel, label):\n",
    "    cv_ridge = pd.Series(X, index = index)\n",
    "    cv_ridge.plot(title = title, label = label)\n",
    "    plt.legend(bbox_to_anchor=(1.05, 1), loc=2, borderaxespad=0.)\n",
    "    plt.xlabel(xlabel)\n",
    "    plt.ylabel(ylabel)\n"
   ]
  },
  {
   "cell_type": "code",
   "execution_count": 182,
   "metadata": {},
   "outputs": [
    {
     "data": {
      "image/png": "[encoded data removed]",
      "text/plain": [
       "<matplotlib.figure.Figure at 0x7fad6b602f10>"
      ]
     },
     "metadata": {
      "image/png": {
       "height": 277,
       "width": 522
      }
     },
     "output_type": "display_data"
    }
   ],
   "source": [
    "cv_ridge_mean = np.mean(cv_ridge, axis=1)\n",
    "title = \"Validation\"\n",
    "xlabel = \"alpha\"\n",
    "ylabel = \"RMSE\"\n",
    "label = \"Ridge Regression\"\n",
    "plot_graphic(cv_ridge_mean, alphas, title, xlabel, ylabel, label)"
   ]
  },
  {
   "cell_type": "markdown",
   "metadata": {},
   "source": [
    "#### Plotting error in cross with smallest RMSE"
   ]
  },
  {
   "cell_type": "code",
   "execution_count": 199,
   "metadata": {
    "scrolled": true
   },
   "outputs": [
    {
     "data": {
      "image/png": "[encoded data removed]",
      "text/plain": [
       "<matplotlib.figure.Figure at 0x7fad6b57fa90>"
      ]
     },
     "metadata": {
      "image/png": {
       "height": 277,
       "width": 543
      }
     },
     "output_type": "display_data"
    }
   ],
   "source": [
    "pos = np.argmin(cv_ridge_mean) # k small position\n",
    "seq = np.arange(1, cv_num+1) # 1, ..., cv_num\n",
    "plot_graphic(np.sort(cv_ridge[pos]), seq, \"RMSE x Cross\", \"Cross\", \"RMSE\", \"Lambda: {0}\".format(pos))\n",
    "pos = 0 #Without Regularization\n",
    "plot_graphic(np.sort(cv_ridge[pos]), seq, \"RMSE x Cross\", \"Cross\", \"RMSE\", \"Without Regularization\")"
   ]
  },
  {
   "cell_type": "markdown",
   "metadata": {},
   "source": [
    "## LASSO Regression"
   ]
  },
  {
   "cell_type": "markdown",
   "metadata": {},
   "source": []
  },
  {
   "cell_type": "code",
   "execution_count": null,
   "metadata": {
    "collapsed": true
   },
   "outputs": [],
   "source": []
  },
  {
   "cell_type": "markdown",
   "metadata": {},
   "source": []
  },
  {
   "cell_type": "code",
   "execution_count": null,
   "metadata": {
    "collapsed": true
   },
   "outputs": [],
   "source": []
  },
  {
   "cell_type": "markdown",
   "metadata": {},
   "source": [
    "## KNN"
   ]
  },
  {
   "cell_type": "markdown",
   "metadata": {},
   "source": []
  },
  {
   "cell_type": "code",
   "execution_count": null,
   "metadata": {
    "collapsed": true
   },
   "outputs": [],
   "source": []
  },
  {
   "cell_type": "markdown",
   "metadata": {},
   "source": []
  },
  {
   "cell_type": "code",
   "execution_count": null,
   "metadata": {
    "collapsed": true
   },
   "outputs": [],
   "source": []
  },
  {
   "cell_type": "markdown",
   "metadata": {},
   "source": [
    "## Kernel "
   ]
  },
  {
   "cell_type": "markdown",
   "metadata": {},
   "source": []
  },
  {
   "cell_type": "code",
   "execution_count": null,
   "metadata": {
    "collapsed": true
   },
   "outputs": [],
   "source": []
  },
  {
   "cell_type": "markdown",
   "metadata": {},
   "source": []
  },
  {
   "cell_type": "code",
   "execution_count": null,
   "metadata": {
    "collapsed": true
   },
   "outputs": [],
   "source": []
  },
  {
   "cell_type": "markdown",
   "metadata": {},
   "source": []
  },
  {
   "cell_type": "code",
   "execution_count": null,
   "metadata": {
    "collapsed": true
   },
   "outputs": [],
   "source": []
  },
  {
   "cell_type": "markdown",
   "metadata": {},
   "source": [
    "## Turn hyperparams with cross-validation"
   ]
  },
  {
   "cell_type": "markdown",
   "metadata": {},
   "source": []
  },
  {
   "cell_type": "code",
   "execution_count": null,
   "metadata": {
    "collapsed": true
   },
   "outputs": [],
   "source": []
  },
  {
   "cell_type": "markdown",
   "metadata": {},
   "source": []
  },
  {
   "cell_type": "code",
   "execution_count": null,
   "metadata": {
    "collapsed": true
   },
   "outputs": [],
   "source": []
  },
  {
   "cell_type": "markdown",
   "metadata": {},
   "source": [
    "## Residual versus Prediction"
   ]
  },
  {
   "cell_type": "markdown",
   "metadata": {},
   "source": []
  },
  {
   "cell_type": "code",
   "execution_count": null,
   "metadata": {
    "collapsed": true
   },
   "outputs": [],
   "source": []
  },
  {
   "cell_type": "markdown",
   "metadata": {},
   "source": []
  },
  {
   "cell_type": "code",
   "execution_count": null,
   "metadata": {
    "collapsed": true
   },
   "outputs": [],
   "source": []
  }
 ],
 "metadata": {
  "kernelspec": {
   "display_name": "Python 3",
   "language": "python",
   "name": "python3"
  },
  "language_info": {
   "codemirror_mode": {
    "name": "ipython",
    "version": 2
   },
   "file_extension": ".py",
   "mimetype": "text/x-python",
   "name": "python",
   "nbconvert_exporter": "python",
   "pygments_lexer": "ipython2",
   "version": "2.7.13"
  }
 },
 "nbformat": 4,
 "nbformat_minor": 2
}
