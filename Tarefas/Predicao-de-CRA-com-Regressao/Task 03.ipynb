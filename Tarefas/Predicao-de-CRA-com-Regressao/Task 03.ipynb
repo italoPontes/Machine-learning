{
 "cells": [
  {
   "cell_type": "markdown",
   "metadata": {},
   "source": [
    "# CRA prediction with Regression\n",
    "\n",
    "#### Importing packages"
   ]
  },
  {
   "cell_type": "code",
   "execution_count": 73,
   "metadata": {
    "collapsed": true
   },
   "outputs": [],
   "source": [
    "#enconding=utf8\n",
    "import copy \n",
    "import pandas as pd\n",
    "import numpy as np\n",
    "import seaborn as sns\n",
    "import matplotlib\n",
    "\n",
    "import matplotlib.pyplot as plt\n",
    "from scipy import stats\n",
    "from scipy.stats import skew\n",
    "from scipy.stats.stats import pearsonr\n",
    "\n",
    "%config InlineBackend.figure_format = 'retina' #set 'png' here when working on notebook\n",
    "%matplotlib inline"
   ]
  },
  {
   "cell_type": "markdown",
   "metadata": {},
   "source": [
    "#### Reading data"
   ]
  },
  {
   "cell_type": "code",
   "execution_count": 70,
   "metadata": {},
   "outputs": [
    {
     "data": {
      "text/html": [
       "<div>\n",
       "<style>\n",
       "    .dataframe thead tr:only-child th {\n",
       "        text-align: right;\n",
       "    }\n",
       "\n",
       "    .dataframe thead th {\n",
       "        text-align: left;\n",
       "    }\n",
       "\n",
       "    .dataframe tbody tr th {\n",
       "        vertical-align: top;\n",
       "    }\n",
       "</style>\n",
       "<table border=\"1\" class=\"dataframe\">\n",
       "  <thead>\n",
       "    <tr style=\"text-align: right;\">\n",
       "      <th></th>\n",
       "      <th>matricula</th>\n",
       "      <th>vetorial</th>\n",
       "      <th>lpt</th>\n",
       "      <th>p1</th>\n",
       "      <th>ic</th>\n",
       "      <th>lp1</th>\n",
       "      <th>calculo2</th>\n",
       "      <th>discreta</th>\n",
       "      <th>p2</th>\n",
       "      <th>grafos</th>\n",
       "      <th>fis_classica</th>\n",
       "      <th>lp2</th>\n",
       "      <th>cra</th>\n",
       "      <th>calculo1</th>\n",
       "    </tr>\n",
       "  </thead>\n",
       "  <tbody>\n",
       "    <tr>\n",
       "      <th>0</th>\n",
       "      <td>0cc3d63edf0b986cb87e345972857e15</td>\n",
       "      <td>8.6</td>\n",
       "      <td>10.0</td>\n",
       "      <td>9.0</td>\n",
       "      <td>9.1</td>\n",
       "      <td>8.6</td>\n",
       "      <td>8.4</td>\n",
       "      <td>8.3</td>\n",
       "      <td>8.8</td>\n",
       "      <td>8.2</td>\n",
       "      <td>7.9</td>\n",
       "      <td>9.4</td>\n",
       "      <td>8.477647</td>\n",
       "      <td>8.7</td>\n",
       "    </tr>\n",
       "    <tr>\n",
       "      <th>1</th>\n",
       "      <td>0d78246db769dc958ce19fc414050b2a</td>\n",
       "      <td>5.6</td>\n",
       "      <td>7.0</td>\n",
       "      <td>7.7</td>\n",
       "      <td>7.0</td>\n",
       "      <td>8.1</td>\n",
       "      <td>6.2</td>\n",
       "      <td>7.3</td>\n",
       "      <td>8.2</td>\n",
       "      <td>5.4</td>\n",
       "      <td>7.7</td>\n",
       "      <td>8.9</td>\n",
       "      <td>6.851724</td>\n",
       "      <td>7.0</td>\n",
       "    </tr>\n",
       "    <tr>\n",
       "      <th>2</th>\n",
       "      <td>0f5bb983df06b90337dc2c6301fef3f6</td>\n",
       "      <td>10.0</td>\n",
       "      <td>9.8</td>\n",
       "      <td>7.9</td>\n",
       "      <td>9.6</td>\n",
       "      <td>8.3</td>\n",
       "      <td>8.7</td>\n",
       "      <td>8.8</td>\n",
       "      <td>9.5</td>\n",
       "      <td>9.2</td>\n",
       "      <td>8.6</td>\n",
       "      <td>9.7</td>\n",
       "      <td>9.090588</td>\n",
       "      <td>8.6</td>\n",
       "    </tr>\n",
       "    <tr>\n",
       "      <th>3</th>\n",
       "      <td>1307a4421a67a497cea198e8ccfb97ee</td>\n",
       "      <td>6.1</td>\n",
       "      <td>8.3</td>\n",
       "      <td>6.8</td>\n",
       "      <td>8.2</td>\n",
       "      <td>7.1</td>\n",
       "      <td>8.0</td>\n",
       "      <td>6.3</td>\n",
       "      <td>8.9</td>\n",
       "      <td>7.0</td>\n",
       "      <td>8.5</td>\n",
       "      <td>9.0</td>\n",
       "      <td>7.283516</td>\n",
       "      <td>7.8</td>\n",
       "    </tr>\n",
       "    <tr>\n",
       "      <th>4</th>\n",
       "      <td>1432d50cf8519694ab992c414d90a130</td>\n",
       "      <td>8.8</td>\n",
       "      <td>9.3</td>\n",
       "      <td>5.0</td>\n",
       "      <td>8.5</td>\n",
       "      <td>5.1</td>\n",
       "      <td>5.0</td>\n",
       "      <td>5.8</td>\n",
       "      <td>7.1</td>\n",
       "      <td>5.4</td>\n",
       "      <td>8.7</td>\n",
       "      <td>8.2</td>\n",
       "      <td>7.205747</td>\n",
       "      <td>5.2</td>\n",
       "    </tr>\n",
       "  </tbody>\n",
       "</table>\n",
       "</div>"
      ],
      "text/plain": [
       "                          matricula  vetorial   lpt   p1   ic  lp1  calculo2  \\\n",
       "0  0cc3d63edf0b986cb87e345972857e15       8.6  10.0  9.0  9.1  8.6       8.4   \n",
       "1  0d78246db769dc958ce19fc414050b2a       5.6   7.0  7.7  7.0  8.1       6.2   \n",
       "2  0f5bb983df06b90337dc2c6301fef3f6      10.0   9.8  7.9  9.6  8.3       8.7   \n",
       "3  1307a4421a67a497cea198e8ccfb97ee       6.1   8.3  6.8  8.2  7.1       8.0   \n",
       "4  1432d50cf8519694ab992c414d90a130       8.8   9.3  5.0  8.5  5.1       5.0   \n",
       "\n",
       "   discreta   p2  grafos  fis_classica  lp2       cra  calculo1  \n",
       "0       8.3  8.8     8.2           7.9  9.4  8.477647       8.7  \n",
       "1       7.3  8.2     5.4           7.7  8.9  6.851724       7.0  \n",
       "2       8.8  9.5     9.2           8.6  9.7  9.090588       8.6  \n",
       "3       6.3  8.9     7.0           8.5  9.0  7.283516       7.8  \n",
       "4       5.8  7.1     5.4           8.7  8.2  7.205747       5.2  "
      ]
     },
     "execution_count": 70,
     "metadata": {},
     "output_type": "execute_result"
    }
   ],
   "source": [
    "data = pd.read_csv(\"treino.csv\")\n",
    "data.columns = ['matricula', 'vetorial','lpt','p1','ic','lp1','calculo2','discreta','p2','grafos','fis_classica','lp2','cra','calculo1']\n",
    "data.head()"
   ]
  },
  {
   "cell_type": "markdown",
   "metadata": {},
   "source": [
    "### Distribuition analysis\n",
    "\n",
    "#### Plot graphics"
   ]
  },
  {
   "cell_type": "code",
   "execution_count": 38,
   "metadata": {},
   "outputs": [
    {
     "data": {
      "text/plain": [
       "array([[<matplotlib.axes._subplots.AxesSubplot object at 0x7f0526fcf7d0>]], dtype=object)"
      ]
     },
     "execution_count": 38,
     "metadata": {},
     "output_type": "execute_result"
    },
    {
     "data": {
      "image/png": "[encoded data removed]",
      "text/plain": [
       "<matplotlib.figure.Figure at 0x7f0526fcf190>"
      ]
     },
     "metadata": {
      "image/png": {
       "height": 262,
       "width": 367
      }
     },
     "output_type": "display_data"
    }
   ],
   "source": [
    "'''\n",
    "pd.DataFrame(data.vetorial).hist()\n",
    "pd.DataFrame(data.lpt).hist()\n",
    "pd.DataFrame(data.p1).hist()\n",
    "pd.DataFrame(data.ic).hist()\n",
    "pd.DataFrame(data.lp1).hist()\n",
    "pd.DataFrame(data.calculo1).hist()\n",
    "pd.DataFrame(data.calculo2).hist()\n",
    "pd.DataFrame(data.discreta).hist()\n",
    "pd.DataFrame(data.p2).hist()\n",
    "pd.DataFrame(data.grafos).hist()\n",
    "pd.DataFrame(data.fis_classica).hist()\n",
    "pd.DataFrame(data.lp2).hist()\n",
    "'''\n",
    "pd.DataFrame(data.cra).hist()"
   ]
  },
  {
   "cell_type": "markdown",
   "metadata": {},
   "source": [
    "### Check skew in data\n",
    "\n",
    "#### Removing \"matricula\" column"
   ]
  },
  {
   "cell_type": "code",
   "execution_count": 58,
   "metadata": {
    "collapsed": true
   },
   "outputs": [],
   "source": [
    "data_filtered = data.drop(['matricula'], axis = 1)"
   ]
  },
  {
   "cell_type": "markdown",
   "metadata": {},
   "source": [
    "#### Skewness analysis"
   ]
  },
  {
   "cell_type": "code",
   "execution_count": 68,
   "metadata": {},
   "outputs": [
    {
     "data": {
      "text/plain": [
       "lp2   -1.905429\n",
       "dtype: float64"
      ]
     },
     "execution_count": 68,
     "metadata": {},
     "output_type": "execute_result"
    }
   ],
   "source": [
    "#log transform skewed numeric features:\n",
    "numeric_feats = data.dtypes[data.dtypes != \"object\"].index\n",
    "skewed_feats = data[numeric_feats].apply(lambda x: skew(x.dropna())) #compute skewness\n",
    "skewed_feats = skewed_feats[(skewed_feats > 0.75) | (skewed_feats < -0.75)]\n",
    "skewed_feats"
   ]
  },
  {
   "cell_type": "markdown",
   "metadata": {},
   "source": [
    "#### \"LP2\" has skew, treating with:"
   ]
  },
  {
   "cell_type": "code",
   "execution_count": 74,
   "metadata": {},
   "outputs": [
    {
     "data": {
      "text/plain": [
       "Series([], dtype: float64)"
      ]
     },
     "execution_count": 74,
     "metadata": {},
     "output_type": "execute_result"
    }
   ],
   "source": [
    "data.lp2 = np.exp(data.lp2)\n",
    "skewed_feats = data[numeric_feats].apply(lambda x: skew(x.dropna())) #compute skewness\n",
    "skewed_feats = skewed_feats[(skewed_feats > 0.75) | (skewed_feats < -0.75)]\n",
    "skewed_feats"
   ]
  },
  {
   "cell_type": "markdown",
   "metadata": {},
   "source": [
    "### Check normality in data\n",
    "\n",
    "#### Shapiro-Wilk normality test"
   ]
  },
  {
   "cell_type": "code",
   "execution_count": 82,
   "metadata": {},
   "outputs": [
    {
     "data": {
      "text/plain": [
       "vetorial          (0.966356575489, 0.0218723528087)\n",
       "lpt              (0.957782268524, 0.00592448469251)\n",
       "p1                (0.947769165039, 0.0014158753911)\n",
       "ic                 (0.987297177315, 0.551311731339)\n",
       "lp1              (0.949837744236, 0.00188722135499)\n",
       "calculo2        (0.867309808731, 2.33750995449e-07)\n",
       "discreta         (0.955848455429, 0.00445785466582)\n",
       "p2                (0.967263817787, 0.0252141393721)\n",
       "grafos             (0.976828217506, 0.116014324129)\n",
       "fis_classica    (0.892025470734, 2.26830047723e-06)\n",
       "lp2             (0.806616425514, 2.19361440124e-09)\n",
       "cra                (0.986866354942, 0.522131383419)\n",
       "calculo1          (0.970496237278, 0.0420565418899)\n",
       "dtype: object"
      ]
     },
     "execution_count": 82,
     "metadata": {},
     "output_type": "execute_result"
    }
   ],
   "source": [
    "data_filtered.apply(lambda x: stats.shapiro(x))"
   ]
  },
  {
   "cell_type": "code",
   "execution_count": 36,
   "metadata": {},
   "outputs": [
    {
     "name": "stdout",
     "output_type": "stream",
     "text": [
      "vetorial        7.280682\n",
      "lpt             8.480114\n",
      "p1              7.407955\n",
      "ic              8.172727\n",
      "lp1             7.597727\n",
      "calculo2        6.323864\n",
      "discreta        6.764773\n",
      "p2              7.941364\n",
      "grafos          7.196591\n",
      "fis_classica    7.107955\n",
      "lp2             8.631818\n",
      "cra             7.332535\n",
      "calculo1        7.200000\n",
      "dtype: float64\n"
     ]
    }
   ],
   "source": [
    "#filling NA's with the mean of the column:\n",
    "print(data.mean())\n",
    "#data = data.fillna()"
   ]
  },
  {
   "cell_type": "code",
   "execution_count": null,
   "metadata": {
    "collapsed": true
   },
   "outputs": [],
   "source": []
  }
 ],
 "metadata": {
  "kernelspec": {
   "display_name": "Python 3",
   "language": "python",
   "name": "python3"
  },
  "language_info": {
   "codemirror_mode": {
    "name": "ipython",
    "version": 2
   },
   "file_extension": ".py",
   "mimetype": "text/x-python",
   "name": "python",
   "nbconvert_exporter": "python",
   "pygments_lexer": "ipython2",
   "version": "2.7.13"
  }
 },
 "nbformat": 4,
 "nbformat_minor": 2
}
